{
 "cells": [
  {
   "cell_type": "code",
   "execution_count": null,
   "id": "01305281-b13e-489e-b2f1-aeca25dc0bfd",
   "metadata": {},
   "outputs": [],
   "source": [
    "words = open('../names.txt', 'r').read().splitlines()"
   ]
  },
  {
   "cell_type": "code",
   "execution_count": null,
   "id": "ccb9a2d2-6f69-4784-9c08-16dbade99e16",
   "metadata": {},
   "outputs": [],
   "source": [
    "words[:10]"
   ]
  },
  {
   "cell_type": "code",
   "execution_count": null,
   "id": "97103208-21e8-4c2e-ae3d-0f93552a54da",
   "metadata": {},
   "outputs": [],
   "source": [
    "len(words)"
   ]
  },
  {
   "cell_type": "code",
   "execution_count": null,
   "id": "4f3d8628-89c2-429d-a3ba-c608d7d7bdc5",
   "metadata": {},
   "outputs": [],
   "source": [
    "max([len(x) for x in words])"
   ]
  },
  {
   "cell_type": "code",
   "execution_count": null,
   "id": "41baa9b7-ffd3-418d-9d6b-e409fe05d22e",
   "metadata": {},
   "outputs": [],
   "source": [
    "min([len(x) for x in words])"
   ]
  },
  {
   "cell_type": "code",
   "execution_count": null,
   "id": "97ee3b6b-5d7a-4bb0-9c97-2b65aa9cfff4",
   "metadata": {},
   "outputs": [],
   "source": [
    "b = {}\n",
    "for w in words:\n",
    "    chs = ['<S>'] + list(w) + ['<E>']\n",
    "    for ch1, ch2 in zip(chs, chs[1:]):\n",
    "        biagram = (ch1, ch2)\n",
    "        b[biagram] = b.get(biagram,0) + 1\n",
    "        # print(ch1, ch2)"
   ]
  },
  {
   "cell_type": "code",
   "execution_count": null,
   "id": "7cab7a7a-30b1-4167-8b52-94993f68b4f7",
   "metadata": {},
   "outputs": [],
   "source": [
    "sorted(b.items(), key=lambda kv: -kv[1])[:10]"
   ]
  },
  {
   "cell_type": "code",
   "execution_count": null,
   "id": "7de3b122-4efe-4cb2-92a7-706b952fb578",
   "metadata": {},
   "outputs": [],
   "source": [
    "import torch\n",
    "N = torch.zeros(27, 27, dtype=torch.int32)"
   ]
  },
  {
   "cell_type": "code",
   "execution_count": null,
   "id": "6c4b4327-080f-4b8d-9aa7-e2aef1b5d894",
   "metadata": {},
   "outputs": [],
   "source": [
    "chars = sorted(list(set(''.join(words))))\n",
    "stoi = {s:i+1 for i, s in enumerate(chars)}\n",
    "stoi['.'] = 0\n",
    "\n",
    "itos = {v:k for k,v in stoi.items()}"
   ]
  },
  {
   "cell_type": "code",
   "execution_count": null,
   "id": "1b77fc1f-96ce-4843-b58c-7142ef172284",
   "metadata": {},
   "outputs": [],
   "source": [
    "for w in words:\n",
    "    chs = ['.'] + list(w) + ['.']\n",
    "    for ch1, ch2 in zip(chs, chs[1:]):\n",
    "        ix1 = stoi[ch1]\n",
    "        ix2 = stoi[ch2]\n",
    "        N[ix1, ix2] += 1"
   ]
  },
  {
   "cell_type": "code",
   "execution_count": null,
   "id": "6de06dc8-121d-462a-8741-813be017f990",
   "metadata": {},
   "outputs": [],
   "source": [
    "import matplotlib.pyplot as plt\n",
    "# %matplotlib inline\n",
    "\n",
    "plt.figure(figsize=(16,16))\n",
    "plt.imshow(N, cmap='Blues')\n",
    "\n",
    "for i in range(27):\n",
    "    for j in range(27):\n",
    "        chstr = itos[i] + itos[j]\n",
    "        plt.text(j, i, chstr, ha='center', va='bottom', color='gray')\n",
    "        plt.text(j, i, N[i, j].item(), ha='center', va='top', color='gray')\n",
    "plt.axis('off')"
   ]
  },
  {
   "cell_type": "code",
   "execution_count": null,
   "id": "a8eda573-d42f-4e0e-bed4-249b92fa64ac",
   "metadata": {},
   "outputs": [],
   "source": [
    "N[0]"
   ]
  },
  {
   "cell_type": "code",
   "execution_count": null,
   "id": "244f3729-9bfe-498b-ade3-2e4e15c2f017",
   "metadata": {},
   "outputs": [],
   "source": [
    "p = N[0].float()\n",
    "p /= p.sum()\n",
    "display(p)\n",
    "\n",
    "display(sum(p))"
   ]
  },
  {
   "cell_type": "code",
   "execution_count": null,
   "id": "13c13a20-d8c4-42be-a4cc-56a59ce8bd62",
   "metadata": {},
   "outputs": [],
   "source": [
    "g = torch.Generator().manual_seed(2147483647)\n",
    "p = torch.rand(3, generator=g)\n",
    "p = p / p.sum()\n",
    "display(p)"
   ]
  },
  {
   "cell_type": "code",
   "execution_count": null,
   "id": "ff156362-b342-45c1-a39b-2fbc1782c1bc",
   "metadata": {},
   "outputs": [],
   "source": [
    "torch.multinomial(p, num_samples=100, replacement=True, generator=g)"
   ]
  },
  {
   "cell_type": "code",
   "execution_count": null,
   "id": "62512a79-ebdd-4e14-a631-1665a6b7f2a2",
   "metadata": {},
   "outputs": [],
   "source": [
    "p.shape"
   ]
  },
  {
   "cell_type": "code",
   "execution_count": null,
   "id": "f258b539-46a6-459c-b46d-9ef2519e1d34",
   "metadata": {},
   "outputs": [],
   "source": [
    "g = torch.Generator().manual_seed(2147483647)\n",
    "\n",
    "\n",
    "for i in range(10):\n",
    "    out = []\n",
    "    ix = 0\n",
    "    while True:\n",
    "        p = N[ix].float()\n",
    "        p = p / p.sum()\n",
    "    \n",
    "        ix = torch.multinomial(p, num_samples=1, replacement=True, generator=g).item()\n",
    "        out.append(itos[ix])\n",
    "        if ix == 0:\n",
    "            break\n",
    "    \n",
    "    print(''.join(out))\n",
    "\n"
   ]
  }
 ],
 "metadata": {
  "kernelspec": {
   "display_name": "Python 3 (ipykernel)",
   "language": "python",
   "name": "python3"
  },
  "language_info": {
   "codemirror_mode": {
    "name": "ipython",
    "version": 3
   },
   "file_extension": ".py",
   "mimetype": "text/x-python",
   "name": "python",
   "nbconvert_exporter": "python",
   "pygments_lexer": "ipython3",
   "version": "3.12.3"
  }
 },
 "nbformat": 4,
 "nbformat_minor": 5
}
